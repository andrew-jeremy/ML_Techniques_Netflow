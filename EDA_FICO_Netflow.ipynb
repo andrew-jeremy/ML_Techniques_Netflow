{
 "cells": [
  {
   "cell_type": "code",
   "execution_count": 69,
   "metadata": {},
   "outputs": [],
   "source": [
    "import boto3\n",
    "import gzip\n",
    "import pandas as pd\n",
    "import json\n",
    "from smart_open import open\n",
    "pd.set_option('display.max_columns', None)\n",
    "pd.set_option('display.max_rows', None)"
   ]
  },
  {
   "cell_type": "code",
   "execution_count": 70,
   "metadata": {},
   "outputs": [
    {
     "name": "stdout",
     "output_type": "stream",
     "text": [
      "(1, 78)\n"
     ]
    }
   ],
   "source": [
    "s3 = boto3.resource('s3')\n",
    "s3_client = boto3.client(\"s3\")\n",
    "bucket = s3.Bucket('ml-flow-dump')\n",
    "\n",
    "\n",
    "source_url = 's3://ml-flow-dump/flow-45days-2022.10.1-000284.json.gz'\n",
    " \n",
    "for i,json_line in enumerate(open(source_url, transport_params={\"client\": s3_client})):\n",
    "    my_json = json.loads(json_line)\n",
    "    df = pd.json_normalize(my_json)  # one line at a time\n",
    "    break\n",
    "print(df.shape)"
   ]
  },
  {
   "cell_type": "code",
   "execution_count": 71,
   "metadata": {},
   "outputs": [
    {
     "name": "stdout",
     "output_type": "stream",
     "text": [
      "Index(['action', 'customer', 'dstip', 'dstvlan', 'flowsrcip', 'flowsrcname',\n",
      "       'flowtype', 'inputalias', 'inputclasses', 'inputname', 'nexthop',\n",
      "       'outputalias', 'outputclasses', 'outputname', 'payload', 'site',\n",
      "       'srcip', 'srcvlan', 'tags', 'dstas.org', 'dstiprep.categories',\n",
      "       'dstgeo.continentcode', 'dstgeo.countrycode', 'dstgeo.subdiso',\n",
      "       'dstowneras.number', 'dstowneras.org', 'srcas.number', 'srcas.org',\n",
      "       'srciprep.categories', 'srcgeo.continentcode', 'srcgeo.countrycode',\n",
      "       'srcgeo.subdiso', 'srcowneras.number', 'srcowneras.org'],\n",
      "      dtype='object')\n",
      "34\n"
     ]
    }
   ],
   "source": [
    "print(df.select_dtypes(include=['object']).columns)\n",
    "print(len(df.select_dtypes(include=['object']).columns))"
   ]
  },
  {
   "cell_type": "code",
   "execution_count": 72,
   "metadata": {},
   "outputs": [
    {
     "name": "stdout",
     "output_type": "stream",
     "text": [
      "Index(['bogondst', 'bogonsrc', 'dstinternal', 'srcinternal', 'tcpflags.urg',\n",
      "       'tcpflags.ack', 'tcpflags.psh', 'tcpflags.rst', 'tcpflags.syn',\n",
      "       'tcpflags.fin', 'tcpflags.ece', 'tcpflags.cwr', 'tcpflags.ns'],\n",
      "      dtype='object')\n",
      "13\n"
     ]
    }
   ],
   "source": [
    "print(df.select_dtypes(include=['bool']).columns)\n",
    "print(len(df.select_dtypes(include=['bool']).columns))\n"
   ]
  },
  {
   "cell_type": "code",
   "execution_count": 73,
   "metadata": {},
   "outputs": [
    {
     "name": "stdout",
     "output_type": "stream",
     "text": [
      "Index(['pbratio'], dtype='object')\n",
      "1\n"
     ]
    }
   ],
   "source": [
    "print(df.select_dtypes(include=['float64']).columns)\n",
    "print(len(df.select_dtypes(include=['float64']).columns))"
   ]
  },
  {
   "cell_type": "code",
   "execution_count": 65,
   "metadata": {},
   "outputs": [
    {
     "name": "stdout",
     "output_type": "stream",
     "text": [
      "Index(['bits', 'bitsxrate', 'dstport', 'duration', 'end', 'flowbrate',\n",
      "       'flowprate', 'flowrtime', 'flowversion', 'input', 'ipversion', 'output',\n",
      "       'packets', 'packetsxrate', 'protocolint', 'samplerate', 'srcport',\n",
      "       'start', 'tcpflagsint', 'timestamp', 'tos', 'dstas.number',\n",
      "       'dstiprep.count', 'dstgeo.location.lat', 'dstgeo.location.lon',\n",
      "       'icmp.code', 'icmp.type', 'srciprep.count', 'srcgeo.location.lat',\n",
      "       'srcgeo.location.lon'],\n",
      "      dtype='object')\n",
      "30\n"
     ]
    }
   ],
   "source": [
    "print(df.select_dtypes(include=['int64']).columns)\n",
    "print(len(df.select_dtypes(include=['int64']).columns))"
   ]
  },
  {
   "cell_type": "code",
   "execution_count": 75,
   "metadata": {},
   "outputs": [],
   "source": [
    "# features to drop\n",
    "l1 = ['flowsrcname','site','flowtype','inputname','tags','action','customer','dstas.org',\n",
    "        'dstiprep.categories', 'dstgeo.continentcode', 'dstgeo.countrycode',\n",
    "        'dstgeo.subdiso', 'srcas.org', 'srciprep.categories',\n",
    "        'srcgeo.continentcode', 'srcgeo.countrycode', 'srcgeo.subdiso', 'dstiprep.count','tos',\n",
    "        'bogondst','bogonsrc','dstinternal','input','output','srciprep.count','srcinternal']\n",
    "        \n",
    "l2 = ['dstvlan','inputalias','inputclasses','outputalias','outputclasses',\n",
    "    'outputname','payload','dstowneras.org','srcvlan','dstowneras.number','srcas.number','srcowneras.number','srcowneras.org','dstas.number']\n",
    "\n",
    "l3 =['flowrtime','end','flowversion','ipversion','samplerate']\n",
    "\n",
    "tcp = [col for col in df.columns if 'tcp' in col]\n",
    "icm = [col for col in df.columns if 'icm' in col]"
   ]
  },
  {
   "cell_type": "code",
   "execution_count": 76,
   "metadata": {},
   "outputs": [],
   "source": [
    "def replace_boolean(data):\n",
    "    for col in data:\n",
    "        data[col].replace(True, 1, inplace=True)\n",
    "        data[col].replace(False, 0, inplace=True)\n",
    "    return data"
   ]
  },
  {
   "cell_type": "code",
   "execution_count": 77,
   "metadata": {},
   "outputs": [
    {
     "name": "stdout",
     "output_type": "stream",
     "text": [
      "(1, 21)\n"
     ]
    },
    {
     "data": {
      "text/html": [
       "<div>\n",
       "<style scoped>\n",
       "    .dataframe tbody tr th:only-of-type {\n",
       "        vertical-align: middle;\n",
       "    }\n",
       "\n",
       "    .dataframe tbody tr th {\n",
       "        vertical-align: top;\n",
       "    }\n",
       "\n",
       "    .dataframe thead th {\n",
       "        text-align: right;\n",
       "    }\n",
       "</style>\n",
       "<table border=\"1\" class=\"dataframe\">\n",
       "  <thead>\n",
       "    <tr style=\"text-align: right;\">\n",
       "      <th></th>\n",
       "      <th>bits</th>\n",
       "      <th>bitsxrate</th>\n",
       "      <th>dstip</th>\n",
       "      <th>dstport</th>\n",
       "      <th>duration</th>\n",
       "      <th>flowbrate</th>\n",
       "      <th>flowprate</th>\n",
       "      <th>flowsrcip</th>\n",
       "      <th>nexthop</th>\n",
       "      <th>packets</th>\n",
       "      <th>packetsxrate</th>\n",
       "      <th>pbratio</th>\n",
       "      <th>protocolint</th>\n",
       "      <th>srcip</th>\n",
       "      <th>srcport</th>\n",
       "      <th>start</th>\n",
       "      <th>timestamp</th>\n",
       "      <th>dstgeo.location.lat</th>\n",
       "      <th>dstgeo.location.lon</th>\n",
       "      <th>srcgeo.location.lat</th>\n",
       "      <th>srcgeo.location.lon</th>\n",
       "    </tr>\n",
       "  </thead>\n",
       "  <tbody>\n",
       "    <tr>\n",
       "      <th>0</th>\n",
       "      <td>818736</td>\n",
       "      <td>818736</td>\n",
       "      <td>10.40.4.244</td>\n",
       "      <td>2055</td>\n",
       "      <td>1012</td>\n",
       "      <td>818736</td>\n",
       "      <td>74</td>\n",
       "      <td>10.2.6.1</td>\n",
       "      <td>216.51.124.93</td>\n",
       "      <td>74</td>\n",
       "      <td>74</td>\n",
       "      <td>0.00009</td>\n",
       "      <td>17</td>\n",
       "      <td>10.2.6.1</td>\n",
       "      <td>50632</td>\n",
       "      <td>1664593150520</td>\n",
       "      <td>1664593167000</td>\n",
       "      <td>0</td>\n",
       "      <td>0</td>\n",
       "      <td>0</td>\n",
       "      <td>0</td>\n",
       "    </tr>\n",
       "  </tbody>\n",
       "</table>\n",
       "</div>"
      ],
      "text/plain": [
       "     bits  bitsxrate        dstip  dstport  duration  flowbrate  flowprate  \\\n",
       "0  818736     818736  10.40.4.244     2055      1012     818736         74   \n",
       "\n",
       "  flowsrcip        nexthop  packets  packetsxrate  pbratio  protocolint  \\\n",
       "0  10.2.6.1  216.51.124.93       74            74  0.00009           17   \n",
       "\n",
       "      srcip  srcport          start      timestamp  dstgeo.location.lat  \\\n",
       "0  10.2.6.1    50632  1664593150520  1664593167000                    0   \n",
       "\n",
       "   dstgeo.location.lon  srcgeo.location.lat  srcgeo.location.lon  \n",
       "0                    0                    0                    0  "
      ]
     },
     "execution_count": 77,
     "metadata": {},
     "output_type": "execute_result"
    }
   ],
   "source": [
    "l = l1 + l2 + l3 + tcp + icm\n",
    "df_out = df.drop(l,axis=1)\n",
    "df_out = replace_boolean(df_out)\n",
    "print(df_out.shape)\n",
    "df_out.head()"
   ]
  },
  {
   "cell_type": "code",
   "execution_count": 78,
   "metadata": {},
   "outputs": [
    {
     "name": "stdout",
     "output_type": "stream",
     "text": [
      "bits                     int64\n",
      "bitsxrate                int64\n",
      "dstip                   object\n",
      "dstport                  int64\n",
      "duration                 int64\n",
      "flowbrate                int64\n",
      "flowprate                int64\n",
      "flowsrcip               object\n",
      "nexthop                 object\n",
      "packets                  int64\n",
      "packetsxrate             int64\n",
      "pbratio                float64\n",
      "protocolint              int64\n",
      "srcip                   object\n",
      "srcport                  int64\n",
      "start                    int64\n",
      "timestamp                int64\n",
      "dstgeo.location.lat      int64\n",
      "dstgeo.location.lon      int64\n",
      "srcgeo.location.lat      int64\n",
      "srcgeo.location.lon      int64\n",
      "dtype: object\n"
     ]
    }
   ],
   "source": [
    "print(df_out.dtypes)"
   ]
  },
  {
   "cell_type": "code",
   "execution_count": 79,
   "metadata": {},
   "outputs": [
    {
     "data": {
      "text/plain": [
       "bits                     int64\n",
       "bitsxrate                int64\n",
       "dstip                   object\n",
       "dstport                 object\n",
       "duration                 int64\n",
       "flowbrate                int64\n",
       "flowprate                int64\n",
       "flowsrcip               object\n",
       "nexthop                 object\n",
       "packets                  int64\n",
       "packetsxrate             int64\n",
       "pbratio                float64\n",
       "protocolint             object\n",
       "srcip                   object\n",
       "srcport                 object\n",
       "start                    int64\n",
       "timestamp                int64\n",
       "dstgeo.location.lat     object\n",
       "dstgeo.location.lon     object\n",
       "srcgeo.location.lat     object\n",
       "srcgeo.location.lon     object\n",
       "dtype: object"
      ]
     },
     "execution_count": 79,
     "metadata": {},
     "output_type": "execute_result"
    }
   ],
   "source": [
    "# convert to categorical type \n",
    "# ['srcport','dstport','protocolint','dstgeo.location.lat',\n",
    "# 'dstgeo.location.lon','srcgeo.location.lat','srcgeo.location.lon'] \n",
    "df_out[['srcport','dstport','protocolint','dstgeo.location.lat','dstgeo.location.lon','srcgeo.location.lat','srcgeo.location.lon']]\\\n",
    "   = df_out[['srcport','dstport','protocolint','dstgeo.location.lat','dstgeo.location.lon','srcgeo.location.lat','srcgeo.location.lon']].astype(object)\n",
    "df_out.dtypes"
   ]
  },
  {
   "cell_type": "markdown",
   "metadata": {},
   "source": [
    "# Feature Engineering"
   ]
  },
  {
   "cell_type": "code",
   "execution_count": 80,
   "metadata": {},
   "outputs": [
    {
     "data": {
      "text/html": [
       "<div>\n",
       "<style scoped>\n",
       "    .dataframe tbody tr th:only-of-type {\n",
       "        vertical-align: middle;\n",
       "    }\n",
       "\n",
       "    .dataframe tbody tr th {\n",
       "        vertical-align: top;\n",
       "    }\n",
       "\n",
       "    .dataframe thead th {\n",
       "        text-align: right;\n",
       "    }\n",
       "</style>\n",
       "<table border=\"1\" class=\"dataframe\">\n",
       "  <thead>\n",
       "    <tr style=\"text-align: right;\">\n",
       "      <th></th>\n",
       "      <th>bits</th>\n",
       "      <th>bitsxrate</th>\n",
       "      <th>dstip</th>\n",
       "      <th>dstport</th>\n",
       "      <th>duration</th>\n",
       "      <th>flowbrate</th>\n",
       "      <th>flowprate</th>\n",
       "      <th>flowsrcip</th>\n",
       "      <th>nexthop</th>\n",
       "      <th>packets</th>\n",
       "      <th>packetsxrate</th>\n",
       "      <th>pbratio</th>\n",
       "      <th>protocolint</th>\n",
       "      <th>srcip</th>\n",
       "      <th>srcport</th>\n",
       "      <th>dstgeo.location.lat</th>\n",
       "      <th>dstgeo.location.lon</th>\n",
       "      <th>srcgeo.location.lat</th>\n",
       "      <th>srcgeo.location.lon</th>\n",
       "      <th>timeDelta</th>\n",
       "    </tr>\n",
       "  </thead>\n",
       "  <tbody>\n",
       "    <tr>\n",
       "      <th>0</th>\n",
       "      <td>818736</td>\n",
       "      <td>818736</td>\n",
       "      <td>10.40.4.244</td>\n",
       "      <td>2055</td>\n",
       "      <td>1012</td>\n",
       "      <td>818736</td>\n",
       "      <td>74</td>\n",
       "      <td>10.2.6.1</td>\n",
       "      <td>216.51.124.93</td>\n",
       "      <td>74</td>\n",
       "      <td>74</td>\n",
       "      <td>0.00009</td>\n",
       "      <td>17</td>\n",
       "      <td>10.2.6.1</td>\n",
       "      <td>50632</td>\n",
       "      <td>0</td>\n",
       "      <td>0</td>\n",
       "      <td>0</td>\n",
       "      <td>0</td>\n",
       "      <td>16480</td>\n",
       "    </tr>\n",
       "  </tbody>\n",
       "</table>\n",
       "</div>"
      ],
      "text/plain": [
       "     bits  bitsxrate        dstip dstport  duration  flowbrate  flowprate  \\\n",
       "0  818736     818736  10.40.4.244    2055      1012     818736         74   \n",
       "\n",
       "  flowsrcip        nexthop  packets  packetsxrate  pbratio protocolint  \\\n",
       "0  10.2.6.1  216.51.124.93       74            74  0.00009          17   \n",
       "\n",
       "      srcip srcport dstgeo.location.lat dstgeo.location.lon  \\\n",
       "0  10.2.6.1   50632                   0                   0   \n",
       "\n",
       "  srcgeo.location.lat srcgeo.location.lon  timeDelta  \n",
       "0                   0                   0      16480  "
      ]
     },
     "execution_count": 80,
     "metadata": {},
     "output_type": "execute_result"
    }
   ],
   "source": [
    "df_out['timeDelta'] = df_out[\"timestamp\"] - df_out[\"start\"]\n",
    "df_out.drop([\"timestamp\",\"start\"],axis=1, inplace=True)\n",
    "df_out"
   ]
  },
  {
   "cell_type": "markdown",
   "metadata": {},
   "source": [
    "We decide to replace `Duration`, `Packets`, `Bytes` column with a ratio corresponding to the number of bytes by packets by minutes."
   ]
  },
  {
   "cell_type": "code",
   "execution_count": 81,
   "metadata": {},
   "outputs": [
    {
     "data": {
      "text/html": [
       "<div>\n",
       "<style scoped>\n",
       "    .dataframe tbody tr th:only-of-type {\n",
       "        vertical-align: middle;\n",
       "    }\n",
       "\n",
       "    .dataframe tbody tr th {\n",
       "        vertical-align: top;\n",
       "    }\n",
       "\n",
       "    .dataframe thead th {\n",
       "        text-align: right;\n",
       "    }\n",
       "</style>\n",
       "<table border=\"1\" class=\"dataframe\">\n",
       "  <thead>\n",
       "    <tr style=\"text-align: right;\">\n",
       "      <th></th>\n",
       "      <th>bitsxrate</th>\n",
       "      <th>dstip</th>\n",
       "      <th>dstport</th>\n",
       "      <th>flowbrate</th>\n",
       "      <th>flowprate</th>\n",
       "      <th>flowsrcip</th>\n",
       "      <th>nexthop</th>\n",
       "      <th>packetsxrate</th>\n",
       "      <th>pbratio</th>\n",
       "      <th>protocolint</th>\n",
       "      <th>srcip</th>\n",
       "      <th>srcport</th>\n",
       "      <th>dstgeo.location.lat</th>\n",
       "      <th>dstgeo.location.lon</th>\n",
       "      <th>srcgeo.location.lat</th>\n",
       "      <th>srcgeo.location.lon</th>\n",
       "      <th>timeDelta</th>\n",
       "      <th>transfered_ratio</th>\n",
       "    </tr>\n",
       "  </thead>\n",
       "  <tbody>\n",
       "    <tr>\n",
       "      <th>0</th>\n",
       "      <td>818736</td>\n",
       "      <td>10.40.4.244</td>\n",
       "      <td>2055</td>\n",
       "      <td>818736</td>\n",
       "      <td>74</td>\n",
       "      <td>10.2.6.1</td>\n",
       "      <td>216.51.124.93</td>\n",
       "      <td>74</td>\n",
       "      <td>0.00009</td>\n",
       "      <td>17</td>\n",
       "      <td>10.2.6.1</td>\n",
       "      <td>50632</td>\n",
       "      <td>0</td>\n",
       "      <td>0</td>\n",
       "      <td>0</td>\n",
       "      <td>0</td>\n",
       "      <td>16480</td>\n",
       "      <td>1.365252</td>\n",
       "    </tr>\n",
       "  </tbody>\n",
       "</table>\n",
       "</div>"
      ],
      "text/plain": [
       "   bitsxrate        dstip dstport  flowbrate  flowprate flowsrcip  \\\n",
       "0     818736  10.40.4.244    2055     818736         74  10.2.6.1   \n",
       "\n",
       "         nexthop  packetsxrate  pbratio protocolint     srcip srcport  \\\n",
       "0  216.51.124.93            74  0.00009          17  10.2.6.1   50632   \n",
       "\n",
       "  dstgeo.location.lat dstgeo.location.lon srcgeo.location.lat  \\\n",
       "0                   0                   0                   0   \n",
       "\n",
       "  srcgeo.location.lon  timeDelta  transfered_ratio  \n",
       "0                   0      16480          1.365252  "
      ]
     },
     "execution_count": 81,
     "metadata": {},
     "output_type": "execute_result"
    }
   ],
   "source": [
    "df_out['transferred_ratio'] = (df_out['bits'] / 8 / df_out['packets']) / (df['duration'] + 1)\n",
    "df_out.drop(columns=['duration', 'packets', 'bits'], axis =1, inplace=True)\n",
    "df_out"
   ]
  },
  {
   "cell_type": "markdown",
   "metadata": {},
   "source": [
    "**preferred columns for netflow analysis**:\n",
    "\n",
    "cat: ['Source_IP', 'Destination_IP', 'Source_Port', 'Destination_Port', 'Protocol', 'Flag', 'Service_Type']\n",
    "\n",
    "num: ['Duration', 'Packets', 'Bytes', 'timeDelta']"
   ]
  },
  {
   "cell_type": "code",
   "execution_count": 82,
   "metadata": {},
   "outputs": [
    {
     "data": {
      "text/plain": [
       "bitsxrate                int64\n",
       "dstip                   object\n",
       "dstport                 object\n",
       "flowbrate                int64\n",
       "flowprate                int64\n",
       "flowsrcip               object\n",
       "nexthop                 object\n",
       "packetsxrate             int64\n",
       "pbratio                float64\n",
       "protocolint             object\n",
       "srcip                   object\n",
       "srcport                 object\n",
       "dstgeo.location.lat     object\n",
       "dstgeo.location.lon     object\n",
       "srcgeo.location.lat     object\n",
       "srcgeo.location.lon     object\n",
       "timeDelta                int64\n",
       "transfered_ratio       float64\n",
       "dtype: object"
      ]
     },
     "execution_count": 82,
     "metadata": {},
     "output_type": "execute_result"
    }
   ],
   "source": [
    "df_out.dtypes"
   ]
  }
 ],
 "metadata": {
  "kernelspec": {
   "display_name": "Python 3.9.12 ('torch-gpu')",
   "language": "python",
   "name": "python3"
  },
  "language_info": {
   "codemirror_mode": {
    "name": "ipython",
    "version": 3
   },
   "file_extension": ".py",
   "mimetype": "text/x-python",
   "name": "python",
   "nbconvert_exporter": "python",
   "pygments_lexer": "ipython3",
   "version": "3.9.12"
  },
  "orig_nbformat": 4,
  "vscode": {
   "interpreter": {
    "hash": "dfe6e941a7766b4f667e721109bb1bb456cb30f9a228822b81d8f31d2ac25a3d"
   }
  }
 },
 "nbformat": 4,
 "nbformat_minor": 2
}
